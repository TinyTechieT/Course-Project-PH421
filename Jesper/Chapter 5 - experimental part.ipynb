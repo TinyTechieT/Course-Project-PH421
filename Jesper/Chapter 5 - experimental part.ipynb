{
 "cells": [
  {
   "cell_type": "code",
   "execution_count": null,
   "id": "0e2f3390",
   "metadata": {},
   "outputs": [],
   "source": []
  },
  {
   "cell_type": "markdown",
   "id": "16f9d4c3",
   "metadata": {},
   "source": [
    "# Experiments\n",
    "\n",
    "The experimental part consists of no coding, but explains how the experimental results shows that phase-mathinc conditions can be relaxed when employing zero-index material. It is divided into three overall experiments: Co-propagating pump and signal, counter-propagating pump and signal, and finally an experiment where the signal beam is injected from outside the device layer plane.\n",
    "## Experimental setup\n",
    "\n",
    "### Pump\n",
    "\n",
    "For the pump laser they use a combination of a continous wave (CW) Verdi 10 532 nm laser as source, a Mira Optima Ti:Saphh used for mode-locking creating pulses of output up to 840 nm, and a Mira-OPO optical parametric oscillator using DFG to create its own signal and idler pulses that ore not used in experiment. This combination creates 1600 nm pulses with a repetition rate of 76 MHz, a temporat width of 3 ps, a spectral bandwidht of around 5 nm, and a peak power of 1300 W.\n",
    "\n",
    "The reason for them using a pulsed laser as pump is that the power of the idler beam depends on the square of the power of the pump beam.\n",
    "\n",
    "### Signal\n",
    "\n",
    "As the pump is pulsed, they chose to have a Santec TSL-710 continous wave laser as signal source, since the combination of both a pulsed pump and a pulsed signal would required one to include spatial overlap into the theoretical derivation. TSL-710 is a tunable laser and therefore the signal can be adjusted to a wavelength in the range 1480-1640 nm. By choosing a CW laser as signal and viewing the system from the frame of reference of the pump pulse, the two waves overlap all the time and therefore fits the theoretical derivations well.\n",
    "\n",
    "### Optical setup\n",
    "\n",
    "![title](opticalsetup.PNG)\n",
    "## Figure 5.1\n",
    "\n",
    "In Fig. 5.1 the experimental setup is illustrated. Both signal and pump are first collimated using lenses (C1 and C2), after which they are adjusted to the same spot-size (0.5 cm) using two lenses for each of them (L1 and L2 for signal and L3 and L4 for pump). Then they are each sent through a half-wave plate (HWP1 and 2) followed by polarizing beamsplitter. The combination of half-wave plates and polarizing beamsplitter can be used to control the power. The polarizing beamsplitter allows transverse polarization to pass further into the setup since this is the polarization needed for coupling into the zero-index waveguide.\n",
    "\n",
    "Then there are two configurations possible: FM mirror in or out of place. If the FM mirror in not in place the beams are co-propagating and enters the zero-index waveguide from the same side. If the FM mirror is in place they enter from opposite sides.\n",
    "\n",
    "The outputs of the zero-index waveguide is then collected on both sides via Fi1 and 2 after which they are sent into the optical spectrum analyzer (OSA). Note that the two beamsplitters located at the zero-index waveguides are placed such that the input beams are not collected into the OSA.\n",
    "\n",
    "## Co-propagating signal and pump waves\n",
    "\n",
    "\n",
    "\n",
    "As found earlier, the forward propagating idler wave will always be well phase-matched when pump and signal are co-propagating, but will, however, depend on loss and impedance when travelling through the waveguide. On the other hand, the backward propagating idler wave needs to have a wavelength at the zero-index wavelength in order to achieve phase-matching, but does not depend strongly on loss and impedance since this wave travels a smaller distance through the waveguide. \n",
    "\n",
    "\n",
    "\n",
    "\n",
    "![title](copropresult.PNG)\n",
    "## Figure 5.2\n",
    "\n",
    "Figure 5.2 shows the resulting measurements when having co-propagating pump and signal. \n",
    "\n",
    "Fig. 5.2 a) shows the spectra of the pump and the signal when measured independently. b) shows the measured spectrum from the forward propagating output of the zero-index waveguide. Note here, that an additinal peak corresponding to the forward propagating idler beam is measured with peak wavelength at 1600 nm corresponding to $\\omega_i = 2 \\omega_s - \\omega_p$.  c) shows measured spectra of the forward propagating idler wave of 10 different wavelength configurations of pump and signal generating idler beams of wavelengths in the interval 1570 to 1630 nm. The black curve represents the theoretical model. d) shows the same but for the backward propagating idler beam.\n",
    "\n",
    "From c) and d) it is evident, that the forward propagating idler wave behaves differently than the backward propagating idler wave. The forward propagating idler beam takes a dip centered at 1596 nm. The reason for this behavious is explained by dispervie propagation loss and permeability values: At lower wavelengths loss is the dominating factor predicting a decrease in intensity for increasing wavelength, and at higher wavelengths the effect of impedance is the dominating factor predicting an increase in intensity for increasing wavelength. These effects are included in the theoretical model (black curve), and therefore, the measurements agree well with the model.\n",
    "\n",
    "For the backward propagating wave in d), it is evident that it peaks at the zero-index wavelength, which is to be expected according to . The measurements agree well with the model in this case as well.\n",
    "\n",
    "The fact that the forward and backward propagating waves behave so differently when passing through the zero-index waveguide, is a proof of these two waves being generated independently (the backward propagating wave is not merely backscattered forward propagating waves and vice versa).\n",
    "\n",
    "## Counter-propagating signal and pump waves\n",
    "As mentioned, when signal and pump propagate in opposite directions, the forward propagating idler will be phase-matched when the signal has a wavelength corresponding to the zero-index wavelength. The backward propagating idler will be phase-matched when the pump has a wavelength corresponding to the zero-index wavelength. In the experiment they have practical constraints and choose a signal wavelength of 1565 and a pump wavelength of 1600 nm, which is a tradeoff that satisfies both requirements to some degree. \n",
    "\n",
    "![title](countepropresult.PNG)\n",
    "\n",
    "## Figure 5.3\n",
    "\n",
    "Figure 5.3 shows the resulting output spectra in the forward and backward directions. Here it is clear, that idler waves are generated in both directions.\n",
    "\n",
    "## Signal coupled from outside of device layer\n",
    "\n",
    "In the last experiment,  they couple the signal into the waveguide by shining on the same side as the incoming pump beam but at an angle of 9.8 degrees with respect to the device in order to satisfy Snell's law. The signal wavelength is 1565 nm and the pump wavelength is 1585 nm.\n",
    "\n",
    "![title](outofplane.PNG)\n",
    "## Figure 5.4\n",
    "\n",
    "Figure 5.4 shows the measured backward propagating spectrum. This figure also shows that an idler is only generated when both pump and signal are applied simultanously. \n",
    "As found earlier, in such configuration all the beams need to be near the zero-index wavelength which is the case to some extent in this experiment.\n",
    "\n",
    "The fact that a four wave mixing process is possible in such a configuration demonstrates the potential of zero-index material and how it can relax directional phase matching conditions, which might be used in future applications."
   ]
  },
  {
   "cell_type": "markdown",
   "id": "a6325cf5",
   "metadata": {},
   "source": [
    "![title](opticalsetup.PNG)\n"
   ]
  }
 ],
 "metadata": {
  "kernelspec": {
   "display_name": "Python 3 (ipykernel)",
   "language": "python",
   "name": "python3"
  },
  "language_info": {
   "codemirror_mode": {
    "name": "ipython",
    "version": 3
   },
   "file_extension": ".py",
   "mimetype": "text/x-python",
   "name": "python",
   "nbconvert_exporter": "python",
   "pygments_lexer": "ipython3",
   "version": "3.9.7"
  }
 },
 "nbformat": 4,
 "nbformat_minor": 5
}
