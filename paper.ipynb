{
 "cells": [
  {
   "cell_type": "code",
   "execution_count": 17,
   "id": "06ca44a9",
   "metadata": {},
   "outputs": [],
   "source": [
    "import numpy as np\n"
   ]
  },
  {
   "cell_type": "code",
   "execution_count": 18,
   "id": "a5c29313",
   "metadata": {},
   "outputs": [],
   "source": [
    "pump_wl = 1600*10^-9"
   ]
  },
  {
   "cell_type": "code",
   "execution_count": null,
   "id": "1df834ea",
   "metadata": {},
   "outputs": [],
   "source": []
  },
  {
   "cell_type": "code",
   "execution_count": null,
   "id": "6e1d2066",
   "metadata": {},
   "outputs": [],
   "source": []
  },
  {
   "cell_type": "code",
   "execution_count": 3,
   "id": "c1d2dda3",
   "metadata": {},
   "outputs": [],
   "source": [
    "signal_wl = 1580*10^-9"
   ]
  },
  {
   "cell_type": "code",
   "execution_count": 4,
   "id": "34a91d16",
   "metadata": {},
   "outputs": [],
   "source": [
    "c0 = 299792458"
   ]
  },
  {
   "cell_type": "code",
   "execution_count": 5,
   "id": "31f4538a",
   "metadata": {},
   "outputs": [],
   "source": [
    "deltaOmega = 2*np.pi*c0*((pump_wl - signal_wl)/(signal_wl*pump_wl))"
   ]
  },
  {
   "cell_type": "code",
   "execution_count": 6,
   "id": "995afdde",
   "metadata": {},
   "outputs": [],
   "source": [
    "lambda_p_number = 100"
   ]
  },
  {
   "cell_type": "code",
   "execution_count": 7,
   "id": "c5a9f3b7",
   "metadata": {},
   "outputs": [],
   "source": [
    "lambda_start = 1557*10^-9"
   ]
  },
  {
   "cell_type": "code",
   "execution_count": 8,
   "id": "d7675dc6",
   "metadata": {},
   "outputs": [],
   "source": [
    "lambda_end = 1603*10^-9"
   ]
  },
  {
   "cell_type": "code",
   "execution_count": 12,
   "id": "7796adeb",
   "metadata": {},
   "outputs": [],
   "source": [
    "L = (148) * 10^-7\n"
   ]
  },
  {
   "cell_type": "code",
   "execution_count": 13,
   "id": "bb86e7a8",
   "metadata": {},
   "outputs": [],
   "source": [
    "n_SI = 3.4757"
   ]
  },
  {
   "cell_type": "code",
   "execution_count": 15,
   "id": "7a26e7b4",
   "metadata": {},
   "outputs": [],
   "source": [
    "eps_zero = 8.854*(10^-12)"
   ]
  },
  {
   "cell_type": "code",
   "execution_count": 16,
   "id": "3e6dfc4e",
   "metadata": {},
   "outputs": [],
   "source": [
    "X3 = 2.45*(10^-19)"
   ]
  },
  {
   "cell_type": "code",
   "execution_count": null,
   "id": "89ab8c7c",
   "metadata": {},
   "outputs": [],
   "source": []
  },
  {
   "cell_type": "code",
   "execution_count": 19,
   "id": "da4dda9f",
   "metadata": {},
   "outputs": [],
   "source": [
    "lambda_p = np.linspace(lambda_start,lambda_end, lambda_p_number)"
   ]
  },
  {
   "cell_type": "code",
   "execution_count": 22,
   "id": "dbd4be21",
   "metadata": {},
   "outputs": [],
   "source": [
    "lambda_s = np.divide((2*np.pi*c0*lambda_p),(2*np.pi*c0 + deltaOmega*lambda_p))"
   ]
  },
  {
   "cell_type": "code",
   "execution_count": 23,
   "id": "655e817a",
   "metadata": {},
   "outputs": [],
   "source": [
    "lambda_i = np.divide((2*np.pi*c0*lambda_p),(2*np.pi*c0 - deltaOmega*lambda_p))"
   ]
  },
  {
   "cell_type": "code",
   "execution_count": null,
   "id": "a14e68ef",
   "metadata": {},
   "outputs": [],
   "source": []
  },
  {
   "cell_type": "code",
   "execution_count": 27,
   "id": "e98bcc02",
   "metadata": {},
   "outputs": [],
   "source": [
    "n_p = [np.random.uniform(0,1) for _ in range(lambda_p_number)]"
   ]
  },
  {
   "cell_type": "code",
   "execution_count": 28,
   "id": "29905efc",
   "metadata": {},
   "outputs": [
    {
     "data": {
      "text/plain": [
       "[0.6664988235372376,\n",
       " 0.7384773932224084,\n",
       " 0.1850243878140465,\n",
       " 0.6918615055711699,\n",
       " 0.9158244318755355,\n",
       " 0.3488441529964105,\n",
       " 0.03427260310495861,\n",
       " 0.013420931905223199,\n",
       " 0.33015427679908715,\n",
       " 0.2875952144656432,\n",
       " 0.0045557784215525254,\n",
       " 0.9671309592222981,\n",
       " 0.1445045483418328,\n",
       " 0.9169127434103431,\n",
       " 0.25816102355433435,\n",
       " 0.8137480877653732,\n",
       " 0.8277500350389366,\n",
       " 0.1465443333910471,\n",
       " 0.4067289906426992,\n",
       " 0.04026160117896194,\n",
       " 0.644173645513379,\n",
       " 0.013294180456158267,\n",
       " 0.3150259930593846,\n",
       " 0.9037374020100892,\n",
       " 0.2762915483557443,\n",
       " 0.25531644821487987,\n",
       " 0.3252544309704746,\n",
       " 0.3042834336231174,\n",
       " 0.5041359268992142,\n",
       " 0.5902095265736667,\n",
       " 0.023046975654734347,\n",
       " 0.16251422721092146,\n",
       " 0.7720122132102715,\n",
       " 0.9054583250993756,\n",
       " 0.4445648830747141,\n",
       " 0.6028581347330187,\n",
       " 0.18121942224154608,\n",
       " 0.6284042887868229,\n",
       " 0.7363889209768414,\n",
       " 0.6205751868015608,\n",
       " 0.09627083952134086,\n",
       " 0.6017543570786594,\n",
       " 0.5666768587202272,\n",
       " 0.8480901244936836,\n",
       " 0.6181679000853202,\n",
       " 0.10725361037443826,\n",
       " 0.1698510582732614,\n",
       " 0.23080731735876525,\n",
       " 0.1821466435770639,\n",
       " 0.3880873890900345,\n",
       " 0.9130919879239316,\n",
       " 0.05147278854060999,\n",
       " 0.3606270209663289,\n",
       " 0.6451768744141911,\n",
       " 0.3406049876226934,\n",
       " 0.9467121398488509,\n",
       " 0.261204562206542,\n",
       " 0.7262380599953381,\n",
       " 0.3787310042000681,\n",
       " 0.9188192477081153,\n",
       " 0.659519341402891,\n",
       " 0.3825838951497982,\n",
       " 0.7332859384949234,\n",
       " 0.9725093738766563,\n",
       " 0.09925775471012188,\n",
       " 0.3027515594233964,\n",
       " 0.4946256813632979,\n",
       " 0.3226876643356723,\n",
       " 0.22082184727233323,\n",
       " 0.23462346872428597,\n",
       " 0.2759973158175243,\n",
       " 0.458315786956466,\n",
       " 0.9539377180281168,\n",
       " 0.9599217961572678,\n",
       " 0.45531233206765354,\n",
       " 0.6362742150060124,\n",
       " 0.21196350417707732,\n",
       " 0.8043340110095091,\n",
       " 0.5076796346800109,\n",
       " 0.6429716061104804,\n",
       " 0.24756394871569165,\n",
       " 0.5895006965476668,\n",
       " 0.06853751313738454,\n",
       " 0.2126427057362179,\n",
       " 0.5570499550986759,\n",
       " 0.009915539830244069,\n",
       " 0.4478733548856856,\n",
       " 0.8991090848037416,\n",
       " 0.7409018870788945,\n",
       " 0.34965233250799044,\n",
       " 0.5489272116545327,\n",
       " 0.1848862947740234,\n",
       " 0.7741817552925737,\n",
       " 0.3857987484175759,\n",
       " 0.5400347822910058,\n",
       " 0.38432402553537526,\n",
       " 0.5429753328464432,\n",
       " 0.5143222395342222,\n",
       " 0.012496517437558974,\n",
       " 0.0320643539607639]"
      ]
     },
     "execution_count": 28,
     "metadata": {},
     "output_type": "execute_result"
    }
   ],
   "source": [
    "n_p"
   ]
  },
  {
   "cell_type": "code",
   "execution_count": 30,
   "id": "1d47bc75",
   "metadata": {},
   "outputs": [
    {
     "ename": "AttributeError",
     "evalue": "'list' object has no attribute 'length'",
     "output_type": "error",
     "traceback": [
      "\u001b[0;31m---------------------------------------------------------------------------\u001b[0m",
      "\u001b[0;31mAttributeError\u001b[0m                            Traceback (most recent call last)",
      "Cell \u001b[0;32mIn [30], line 1\u001b[0m\n\u001b[0;32m----> 1\u001b[0m n_p\u001b[38;5;241m.\u001b[39mlength\n",
      "\u001b[0;31mAttributeError\u001b[0m: 'list' object has no attribute 'length'"
     ]
    }
   ],
   "source": [
    "n_p.length\n"
   ]
  },
  {
   "cell_type": "code",
   "execution_count": null,
   "id": "721be875",
   "metadata": {},
   "outputs": [],
   "source": []
  }
 ],
 "metadata": {
  "kernelspec": {
   "display_name": "Python 3 (ipykernel)",
   "language": "python",
   "name": "python3"
  },
  "language_info": {
   "codemirror_mode": {
    "name": "ipython",
    "version": 3
   },
   "file_extension": ".py",
   "mimetype": "text/x-python",
   "name": "python",
   "nbconvert_exporter": "python",
   "pygments_lexer": "ipython3",
   "version": "3.8.10"
  }
 },
 "nbformat": 4,
 "nbformat_minor": 5
}
